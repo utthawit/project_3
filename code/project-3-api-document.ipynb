{
 "cells": [
  {
   "cell_type": "markdown",
   "id": "9daf678d-7b24-464b-81d4-5d2e0c5289d3",
   "metadata": {},
   "source": [
    "### **1. Install PRAW (Python Reddit API Wrapper)**"
   ]
  },
  {
   "cell_type": "code",
   "execution_count": 3,
   "id": "5255a588-753a-41eb-a3fd-46e6769c2b21",
   "metadata": {},
   "outputs": [],
   "source": [
    "#!pip install praw"
   ]
  },
  {
   "cell_type": "markdown",
   "id": "a0dadd3b-e569-4150-84e8-615df1b0cd67",
   "metadata": {},
   "source": [
    "#### From the [PRAW documentation](https://praw.readthedocs.io/en/stable/getting_started/quick_start.html):"
   ]
  },
  {
   "cell_type": "markdown",
   "id": "a4dffc96-7a86-4547-adc8-9525893da003",
   "metadata": {},
   "source": [
    "#### Prerequisites\n",
    "\n",
    "* **Python Knowledge**:\n",
    "You need to know at least a little Python to use PRAW. PRAW supports Python 3.7+. If you have any issues, feel free to discuss with the instructional team.\n",
    "\n",
    "* **Reddit Knowledge**:\n",
    "A basic understanding of how Reddit works is a must. In the event you are not already familiar with Reddit start at [**Reddit Help**](https://support.reddithelp.com/hc/en-us).\n",
    "\n",
    "* **Reddit Account**:\n",
    "A Reddit account is required to access Reddit’s API. Create one at [**reddit.com**](https://www.reddit.com/).\n",
    "\n",
    "* **Client ID & Client Secret**:\n",
    "These two values are needed to access Reddit’s API as a script application (see [Authenticating via OAuth](https://praw.readthedocs.io/en/stable/getting_started/authentication.html#oauth) for other application types). If you don’t already have a client ID and client secret, follow [**Reddit’s First Steps Guide**](https://github.com/reddit-archive/reddit/wiki/OAuth2-Quick-Start-Example#first-steps) to create them.\n",
    "\n",
    "* **User Agent**:\n",
    "A user agent is a unique identifier that helps Reddit determine the source of network requests. To use Reddit’s API, you need a unique and descriptive user agent. The recommended format is `<platform>:<app ID>:<version string> (by u/<Reddit username>)`. For example, `android:com.example.myredditapp:v1.2.3 (by u/kemitche)`.\n",
    "\n",
    "Read more about user agents at [Reddit’s API wiki page](https://github.com/reddit-archive/reddit/wiki/API)."
   ]
  },
  {
   "cell_type": "markdown",
   "id": "df4ddcb1-0f0e-4df3-8c52-60330bb3a0ba",
   "metadata": {},
   "source": [
    "### **2. Create a Reddit App**"
   ]
  },
  {
   "cell_type": "markdown",
   "id": "f20e256f-31e2-4e5e-a964-78414e63e055",
   "metadata": {},
   "source": [
    "As mentioned, to access the Reddit API, you'll need to create an application on Reddit and obtain your API credentials. Follow these steps:\n",
    "\n",
    "- Go to the [**Reddit**](https://www.reddit.com/) website and either [**sign up for an account**](https://www.reddit.com/register) or log in to your existing account. *Feel free to create a throwaway account for this project!*\n",
    "- Navigate to the [**Reddit Apps page**](https://www.reddit.com/prefs/apps).\n",
    "- Click the \"are you a developer? create an app...\" button in the top left.\n",
    "- Provide a name for your app (e.g., \"PRAW\"), select the app type ('script') , and optionally add a description. Use http://localhost:8080 as your redirect URI.\n",
    "- After submitting the form, you will reach a page that looks like the following image. You'll see your application's details, including the client ID and client secret. Keep these credentials handy for the next step."
   ]
  },
  {
   "cell_type": "markdown",
   "id": "70522546-4ed0-4c31-bee3-a34748590978",
   "metadata": {},
   "source": [
    "![Praw](https://www.honchosearch.com/hubfs/Imported_Blog_Media/Client-ID-Client-Secret.png)"
   ]
  },
  {
   "cell_type": "markdown",
   "id": "b9ebf283-1370-4a91-8d93-e378ea3979a1",
   "metadata": {},
   "source": [
    "#### Read-only Reddit Instances\n",
    "\n",
    "To create a read-only Reddit instance, you need three pieces of information:\n",
    "* Client ID\n",
    "* Client secret\n",
    "* User agent\n",
    "\n",
    "```python\n",
    "# Creating a read-only Reddit instance\n",
    "reddit = praw.Reddit(\n",
    "    client_id=\"YOUR_CLIENT_ID\",         # From your Reddit API application\n",
    "    client_secret=\"YOUR_CLIENT_SECRET\", # From your Reddit API application\n",
    "    user_agent=\"YOUR_USER_AGENT\")       # Identifies your script to Reddit's servers\n",
    "```"
   ]
  },
  {
   "cell_type": "markdown",
   "id": "7b9b6e7c-036f-4f49-ba68-7cacecc6d9e5",
   "metadata": {},
   "source": [
    "**Your user agent is an identifier used by Reddit to identify the source of requests. You have some flexibility, but you'll want to choose something descriptive and unique, and it's recommended that your username is included. See the user agent bullet point under the prerequisites**"
   ]
  },
  {
   "cell_type": "markdown",
   "id": "8ef57db9-669a-44e7-9cdd-62f00d72e1c5",
   "metadata": {},
   "source": [
    "I have removed my own credentials from this workbook. We can show you how to hide your credentials before submitting the project! **The following code will need your own Reddit credentials in order to successfully work.**"
   ]
  },
  {
   "cell_type": "markdown",
   "id": "9f874328-fda1-417c-91a7-f5ccaa31e6af",
   "metadata": {},
   "source": [
    "### **3. Create a `.env` file to hide your Reddit credentials**"
   ]
  },
  {
   "cell_type": "markdown",
   "id": "eba44635-1486-45e5-a95a-d3f3b2d5ec93",
   "metadata": {},
   "source": [
    "**Mac Users**\n",
    "- Open your Terminal\n",
    "- If not in your personal Project #3 folder already, navigate to that project folder using the `cd` command\n",
    "- Create a **.env** (\"env\" is short for \"environment\" variables) file in your project folder using **touch .env** via the terminal\n",
    "- That is the file's full name: **.env**\n",
    "- The dot (.) in front of .env makes it a hidden file on Mac/Linux systems, just like .DS_Store or .git. You can still edit it with any text editor, but it won't be visible in Finder by default. This is why we use `ls -a` so that we can see hidden files.\n",
    "- Paste in these variable names while replacing \"YOUR_CLIENT_ID\", \"YOUR_CLIENT_SECRET\", and \"YOUR_USER_AGENT\" with your actual client id, client secret, and user agent:\n",
    "```python\n",
    "client_id=\"YOUR_CLIENT_ID\",         # From your Reddit API application\n",
    "client_secret=\"YOUR_CLIENT_SECRET\", # From your Reddit API application  \n",
    "user_agent=\"YOUR_USER_AGENT\"        # Identifies your script to Reddit's servers\n",
    "```    "
   ]
  },
  {
   "cell_type": "markdown",
   "id": "0cc34b80-211f-4a3f-88e6-0ab123445a45",
   "metadata": {
    "jp-MarkdownHeadingCollapsed": true
   },
   "source": [
    "**Windows Users**\n",
    "\n",
    "- Open Notepad or VSCode (`code .env` if VSCode is added to your system PATH) or any other text editor.\n",
    "- Create a new file and paste in these variable names while replacing \"YOUR_CLIENT_ID\", \"YOUR_CLIENT_SECRET\", and \"YOUR_USER_AGENT\" with your actual client id, client secret, and user agent:\n",
    "```python\n",
    "client_id=\"YOUR_CLIENT_ID\",         # From your Reddit API application\n",
    "client_secret=\"YOUR_CLIENT_SECRET\", # From your Reddit API application  \n",
    "user_agent=\"YOUR_USER_AGENT\"        # Identifies your script to Reddit's servers\n",
    "```    \n",
    "- When saving, follow these exact steps:\n",
    "    - Click \"Save As\"\n",
    "    - Change \"Save as type\" to \"All Files (.)\"\n",
    "    - Name the file exactly as: .env\n",
    "    - Select your project folder location\n",
    "    - Click Save\n",
    "\n",
    "**Important: Make sure to select \"All Files\" in the save type, otherwise Windows will add a hidden .txt extension, creating \".env.txt\" instead of \".env\"**"
   ]
  },
  {
   "cell_type": "markdown",
   "id": "c1542a23-d27f-4d64-8ff0-35db952e3f9d",
   "metadata": {},
   "source": [
    "### **4. Initialize PRAW**\n",
    "```python\n",
    "reddit = praw.Reddit(\n",
    "    client_id=os.getenv('REDDIT_CLIENT_ID'),\n",
    "    client_secret=os.getenv('REDDIT_CLIENT_SECRET'),\n",
    "    user_agent=os.getenv('REDDIT_USER_AGENT')\n",
    "```"
   ]
  },
  {
   "cell_type": "code",
   "execution_count": 21,
   "id": "18c37898-a560-43bd-829a-b265efa70aa1",
   "metadata": {},
   "outputs": [
    {
     "name": "stdout",
     "output_type": "stream",
     "text": [
      "Load successful: True\n",
      "Read-only: True\n",
      "Pulling subreddit Airbus\n",
      "Fetched 810 posts from Airbus\n",
      "Pulling subreddit Boeing\n",
      "Fetched 511 posts from Boeing\n"
     ]
    }
   ],
   "source": [
    "import pandas as pd\n",
    "import praw\n",
    "import os\n",
    "from dotenv import load_dotenv\n",
    "from datetime import datetime\n",
    "\n",
    "# Attempts to load environment variables from .env file\n",
    "# Returns True if successful, False if .env file is not found or there's an error\n",
    "success = load_dotenv()\n",
    "\n",
    "# Prints whether the environment variables were successfully loaded\n",
    "# This can help with debugging if there are any issues with your \n",
    "# .env file configuration\n",
    "print(f\"Load successful: {success}\")\n",
    "\n",
    "# Initializing PRAW (Python Reddit API Wrapper)\n",
    "reddit = praw.Reddit(\n",
    "    client_id=os.getenv('REDDIT_CLIENT_ID'),\n",
    "    client_secret=os.getenv('REDDIT_CLIENT_SECRET'),\n",
    "    user_agent=os.getenv('REDDIT_USER_AGENT')\n",
    ")\n",
    "\n",
    "print(f\"Read-only: {reddit.read_only}\")\n",
    "\n",
    "def fetch_subreddit_data(reddit, subreddit_name, post_limit=1000):\n",
    "    subreddit = reddit.subreddit(subreddit_name)\n",
    "    posts = []\n",
    "    for post in subreddit.hot(limit=post_limit):\n",
    "        # Convert Unix timestamp to datetime\n",
    "        created_date = datetime.fromtimestamp(post.created)\n",
    "        \n",
    "        posts.append({\n",
    "            \"title\": post.title,\n",
    "            \"score\": post.score,\n",
    "            \"id\": post.id,\n",
    "            \"url\": post.url,\n",
    "            \"comms_num\": post.num_comments,\n",
    "            \"created\": created_date,  # Now returns datetime object\n",
    "            \"body\": post.selftext\n",
    "        })\n",
    "    return pd.DataFrame(posts)\n",
    "\n",
    "post_limit = 1000\n",
    "\n",
    "# The `subreddit_list` variable will be assigned a list of your\n",
    "# two chosen subreddits for Project #3\n",
    "# Example: \n",
    "subreddit_list = [\"Airbus\",\"Boeing\"]\n",
    "\n",
    "#subreddit_list = \n",
    "for sub in subreddit_list:\n",
    "    print(f'Pulling subreddit {sub}')\n",
    "    data = fetch_subreddit_data(reddit, sub, post_limit)\n",
    "    data.to_csv(f'data/subreddit_{sub}_data.csv', index=False)\n",
    "    print(f\"Fetched {len(data)} posts from {sub}\")"
   ]
  },
  {
   "cell_type": "markdown",
   "id": "06dfcbf6-22a3-48d7-a5a3-ee7d67f25ee8",
   "metadata": {},
   "source": [
    "### **5. Rejoice and bask in the sweet glory of Reddit!**"
   ]
  },
  {
   "cell_type": "markdown",
   "id": "3dfbeeb9-a69a-4823-9953-b7dec65b477c",
   "metadata": {},
   "source": [
    "### Notes: \n",
    "\n",
    "- You can use the `created_utc` attribute of a post to keep track of the timestamp and ensure non-overlapping pulls. The `created_utc` attribute represents the post's creation time in UTC (Coordinated Universal Time).\n",
    "- Example: Thailand follows UTC+07:00, which is 7 hours ahead of UTC.\n",
    "\n",
    "### Last one:\n",
    "- **Rather than working in this template notebook, make a brand new \"scraping\" notebook (or script in a .py file), with your own comments, so you can use this project in a portfolio!**"
   ]
  }
 ],
 "metadata": {
  "kernelspec": {
   "display_name": "Python 3 (ipykernel)",
   "language": "python",
   "name": "python3"
  },
  "language_info": {
   "codemirror_mode": {
    "name": "ipython",
    "version": 3
   },
   "file_extension": ".py",
   "mimetype": "text/x-python",
   "name": "python",
   "nbconvert_exporter": "python",
   "pygments_lexer": "ipython3",
   "version": "3.12.4"
  }
 },
 "nbformat": 4,
 "nbformat_minor": 5
}
