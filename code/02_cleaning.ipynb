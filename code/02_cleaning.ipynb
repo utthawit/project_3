{
 "cells": [
  {
   "cell_type": "markdown",
   "id": "2aa7b0a3-8952-4b95-b18a-991342c38ede",
   "metadata": {},
   "source": [
    "#### Load modules"
   ]
  },
  {
   "cell_type": "code",
   "execution_count": 2,
   "id": "a041b9c5-1c69-44dc-8fa3-3f0b6974ebde",
   "metadata": {},
   "outputs": [],
   "source": [
    "import pandas as pd\n",
    "from sklearn.feature_extraction.text import TfidfVectorizer"
   ]
  },
  {
   "cell_type": "markdown",
   "id": "718e6ada-845a-4917-8fd8-f79113eea9eb",
   "metadata": {},
   "source": [
    "#### Load CSV data for each subreddit"
   ]
  },
  {
   "cell_type": "code",
   "execution_count": 4,
   "id": "7a47eabe-89a6-42bf-9f95-99b5b5de37dd",
   "metadata": {},
   "outputs": [],
   "source": [
    "wine_df = pd.DataFrame()\n",
    "beer_df = pd.DataFrame()\n",
    "for date in ['all']:\n",
    "    wine_df = pd.concat([wine_df, pd.read_csv(f'../data/subreddit_wine_data-{date}.csv', encoding='utf-8-sig')])\n",
    "    beer_df = pd.concat([beer_df, pd.read_csv(f'../data/subreddit_beer_data-{date}.csv', encoding='utf-8-sig')])"
   ]
  },
  {
   "cell_type": "code",
   "execution_count": 5,
   "id": "24badf1c-d12a-4cb1-8f8d-2b5c1429c3ac",
   "metadata": {},
   "outputs": [
    {
     "data": {
      "text/plain": [
       "((4884, 7), (4903, 7))"
      ]
     },
     "execution_count": 5,
     "metadata": {},
     "output_type": "execute_result"
    }
   ],
   "source": [
    "wine_df.shape, beer_df.shape"
   ]
  },
  {
   "cell_type": "markdown",
   "id": "0184758d-5450-4ce9-bee5-c1ed6f2526ad",
   "metadata": {},
   "source": [
    "#### Combine both DataFrame"
   ]
  },
  {
   "cell_type": "code",
   "execution_count": 7,
   "id": "a634b977-73d4-4c0c-847f-e089b9ae143f",
   "metadata": {},
   "outputs": [],
   "source": [
    "# set subreddit feature for each df\n",
    "wine_df['subreddit'] = 'wine'\n",
    "beer_df['subreddit'] = 'beer'\n",
    "\n",
    "# concatenate both df\n",
    "combine_df = pd.concat([wine_df, beer_df])\n",
    "\n",
    "# combine title and body into title_body\n",
    "combine_df['title_body'] = combine_df['title'] + ' ' + combine_df['body']"
   ]
  },
  {
   "cell_type": "code",
   "execution_count": 8,
   "id": "53b926c5-7060-40a6-8487-33e9346a9a58",
   "metadata": {},
   "outputs": [],
   "source": [
    "# drop duplicate from merging\n",
    "combine_df.drop_duplicates(subset=['id'], inplace=True)"
   ]
  },
  {
   "cell_type": "code",
   "execution_count": 9,
   "id": "be472943-3921-42f2-a771-e782b868111e",
   "metadata": {},
   "outputs": [],
   "source": [
    "# drop row with null values\n",
    "combine_df.dropna(inplace=True)"
   ]
  },
  {
   "cell_type": "code",
   "execution_count": 10,
   "id": "26b04317-36ec-4658-bcb0-48fb5279cfd1",
   "metadata": {},
   "outputs": [
    {
     "data": {
      "text/plain": [
       "0"
      ]
     },
     "execution_count": 10,
     "metadata": {},
     "output_type": "execute_result"
    }
   ],
   "source": [
    "# check for null value rows\n",
    "combine_df['title_body'].isnull().sum()"
   ]
  },
  {
   "cell_type": "code",
   "execution_count": 11,
   "id": "60ae4c55-f0a0-4b68-adb8-b4cb6f52f115",
   "metadata": {},
   "outputs": [
    {
     "data": {
      "text/html": [
       "<div>\n",
       "<style scoped>\n",
       "    .dataframe tbody tr th:only-of-type {\n",
       "        vertical-align: middle;\n",
       "    }\n",
       "\n",
       "    .dataframe tbody tr th {\n",
       "        vertical-align: top;\n",
       "    }\n",
       "\n",
       "    .dataframe thead th {\n",
       "        text-align: right;\n",
       "    }\n",
       "</style>\n",
       "<table border=\"1\" class=\"dataframe\">\n",
       "  <thead>\n",
       "    <tr style=\"text-align: right;\">\n",
       "      <th></th>\n",
       "      <th>title</th>\n",
       "      <th>score</th>\n",
       "      <th>id</th>\n",
       "      <th>url</th>\n",
       "      <th>comms_num</th>\n",
       "      <th>created</th>\n",
       "      <th>body</th>\n",
       "      <th>subreddit</th>\n",
       "      <th>title_body</th>\n",
       "    </tr>\n",
       "  </thead>\n",
       "  <tbody>\n",
       "    <tr>\n",
       "      <th>0</th>\n",
       "      <td>[Megathread] How much is my wine worth? Is it ...</td>\n",
       "      <td>98</td>\n",
       "      <td>17j7oej</td>\n",
       "      <td>https://www.reddit.com/r/wine/comments/17j7oej...</td>\n",
       "      <td>743</td>\n",
       "      <td>2023-10-30 00:18:37</td>\n",
       "      <td>We're expanding the scope of the megathread a ...</td>\n",
       "      <td>wine</td>\n",
       "      <td>[Megathread] How much is my wine worth? Is it ...</td>\n",
       "    </tr>\n",
       "    <tr>\n",
       "      <th>1</th>\n",
       "      <td>Free Talk Friday</td>\n",
       "      <td>1</td>\n",
       "      <td>1gmbv5t</td>\n",
       "      <td>https://www.reddit.com/r/wine/comments/1gmbv5t...</td>\n",
       "      <td>16</td>\n",
       "      <td>2024-11-08 13:00:27</td>\n",
       "      <td>Bottle porn without notes, random musings, off...</td>\n",
       "      <td>wine</td>\n",
       "      <td>Free Talk Friday Bottle porn without notes, ra...</td>\n",
       "    </tr>\n",
       "    <tr>\n",
       "      <th>2</th>\n",
       "      <td>Started Journey to Master</td>\n",
       "      <td>219</td>\n",
       "      <td>1gogepp</td>\n",
       "      <td>https://i.redd.it/6gdvjahxb60e1.jpeg</td>\n",
       "      <td>21</td>\n",
       "      <td>2024-11-11 08:19:05</td>\n",
       "      <td>I have great study material for anyone interes...</td>\n",
       "      <td>wine</td>\n",
       "      <td>Started Journey to Master I have great study m...</td>\n",
       "    </tr>\n",
       "    <tr>\n",
       "      <th>4</th>\n",
       "      <td>NV Pierre Peters</td>\n",
       "      <td>41</td>\n",
       "      <td>1goebub</td>\n",
       "      <td>https://www.reddit.com/gallery/1goebub</td>\n",
       "      <td>7</td>\n",
       "      <td>2024-11-11 06:36:49</td>\n",
       "      <td>Howdy Winos! Anyone have any idea how old this...</td>\n",
       "      <td>wine</td>\n",
       "      <td>NV Pierre Peters Howdy Winos! Anyone have any ...</td>\n",
       "    </tr>\n",
       "    <tr>\n",
       "      <th>5</th>\n",
       "      <td>Vouvray Chenin Blanc</td>\n",
       "      <td>16</td>\n",
       "      <td>1goj0bf</td>\n",
       "      <td>https://www.reddit.com/r/wine/comments/1goj0bf...</td>\n",
       "      <td>13</td>\n",
       "      <td>2024-11-11 10:37:00</td>\n",
       "      <td>I mostly drink reds, but recently started tryi...</td>\n",
       "      <td>wine</td>\n",
       "      <td>Vouvray Chenin Blanc I mostly drink reds, but ...</td>\n",
       "    </tr>\n",
       "  </tbody>\n",
       "</table>\n",
       "</div>"
      ],
      "text/plain": [
       "                                               title score       id  \\\n",
       "0  [Megathread] How much is my wine worth? Is it ...    98  17j7oej   \n",
       "1                                   Free Talk Friday     1  1gmbv5t   \n",
       "2                          Started Journey to Master   219  1gogepp   \n",
       "4                                   NV Pierre Peters    41  1goebub   \n",
       "5                               Vouvray Chenin Blanc    16  1goj0bf   \n",
       "\n",
       "                                                 url comms_num  \\\n",
       "0  https://www.reddit.com/r/wine/comments/17j7oej...       743   \n",
       "1  https://www.reddit.com/r/wine/comments/1gmbv5t...        16   \n",
       "2               https://i.redd.it/6gdvjahxb60e1.jpeg        21   \n",
       "4             https://www.reddit.com/gallery/1goebub         7   \n",
       "5  https://www.reddit.com/r/wine/comments/1goj0bf...        13   \n",
       "\n",
       "               created                                               body  \\\n",
       "0  2023-10-30 00:18:37  We're expanding the scope of the megathread a ...   \n",
       "1  2024-11-08 13:00:27  Bottle porn without notes, random musings, off...   \n",
       "2  2024-11-11 08:19:05  I have great study material for anyone interes...   \n",
       "4  2024-11-11 06:36:49  Howdy Winos! Anyone have any idea how old this...   \n",
       "5  2024-11-11 10:37:00  I mostly drink reds, but recently started tryi...   \n",
       "\n",
       "  subreddit                                         title_body  \n",
       "0      wine  [Megathread] How much is my wine worth? Is it ...  \n",
       "1      wine  Free Talk Friday Bottle porn without notes, ra...  \n",
       "2      wine  Started Journey to Master I have great study m...  \n",
       "4      wine  NV Pierre Peters Howdy Winos! Anyone have any ...  \n",
       "5      wine  Vouvray Chenin Blanc I mostly drink reds, but ...  "
      ]
     },
     "execution_count": 11,
     "metadata": {},
     "output_type": "execute_result"
    }
   ],
   "source": [
    "# display sample records\n",
    "combine_df.head()"
   ]
  },
  {
   "cell_type": "markdown",
   "id": "353b090e-8ac3-4b4e-8c8c-b638fd1b5af6",
   "metadata": {},
   "source": [
    "#### Export CSV data"
   ]
  },
  {
   "cell_type": "code",
   "execution_count": 13,
   "id": "4ddd4e0e-0b41-469c-94b9-33821502722d",
   "metadata": {},
   "outputs": [
    {
     "data": {
      "text/plain": [
       "(2009, 9)"
      ]
     },
     "execution_count": 13,
     "metadata": {},
     "output_type": "execute_result"
    }
   ],
   "source": [
    "# display DataFrame shape\n",
    "combine_df.shape"
   ]
  },
  {
   "cell_type": "code",
   "execution_count": 14,
   "id": "18cd051b-ca95-40d8-92f9-8fbb5a3f5189",
   "metadata": {},
   "outputs": [],
   "source": [
    "# write data to CSV file\n",
    "combine_df[['id','url','comms_num','created','subreddit','title_body']] \\\n",
    ".to_csv('../data/subreddit_combine_title_body.csv', index=False)"
   ]
  }
 ],
 "metadata": {
  "kernelspec": {
   "display_name": "Python 3 (ipykernel)",
   "language": "python",
   "name": "python3"
  },
  "language_info": {
   "codemirror_mode": {
    "name": "ipython",
    "version": 3
   },
   "file_extension": ".py",
   "mimetype": "text/x-python",
   "name": "python",
   "nbconvert_exporter": "python",
   "pygments_lexer": "ipython3",
   "version": "3.12.3"
  }
 },
 "nbformat": 4,
 "nbformat_minor": 5
}
