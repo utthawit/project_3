{
 "cells": [
  {
   "cell_type": "code",
   "execution_count": 1,
   "id": "a86e563c-2433-4bcb-b7c1-8f030078e897",
   "metadata": {},
   "outputs": [],
   "source": [
    "import pandas as pd\n",
    "import praw\n",
    "import os\n",
    "from dotenv import load_dotenv\n",
    "from datetime import datetime"
   ]
  },
  {
   "cell_type": "code",
   "execution_count": 2,
   "id": "ca7ce5d6-84ea-46c5-8a81-0eaa3afa578d",
   "metadata": {},
   "outputs": [
    {
     "name": "stdout",
     "output_type": "stream",
     "text": [
      "Load successful: True\n",
      "Read-only: True\n"
     ]
    }
   ],
   "source": [
    "\n",
    "# Attempts to load environment variables from .env file\n",
    "# Returns True if successful, False if .env file is not found or there's an error\n",
    "success = load_dotenv()\n",
    "\n",
    "# Prints whether the environment variables were successfully loaded\n",
    "# This can help with debugging if there are any issues with your \n",
    "# .env file configuration\n",
    "print(f\"Load successful: {success}\")\n",
    "\n",
    "# Initializing PRAW (Python Reddit API Wrapper)\n",
    "reddit = praw.Reddit(\n",
    "    client_id=os.getenv('REDDIT_CLIENT_ID'),\n",
    "    client_secret=os.getenv('REDDIT_CLIENT_SECRET'),\n",
    "    user_agent=os.getenv('REDDIT_USER_AGENT')\n",
    ")\n",
    "\n",
    "print(f\"Read-only: {reddit.read_only}\")"
   ]
  },
  {
   "cell_type": "code",
   "execution_count": 3,
   "id": "7d2a3d7f-2ac4-4ee8-905e-6f64f20471af",
   "metadata": {},
   "outputs": [],
   "source": [
    "def fetch_subreddit_data(reddit, subreddit_name, post_limit=1000):\n",
    "    subreddit = reddit.subreddit(subreddit_name)\n",
    "    posts = []\n",
    "    for post in subreddit.new(limit=post_limit):\n",
    "        # Convert Unix timestamp to datetime\n",
    "        created_date = datetime.fromtimestamp(post.created)\n",
    "        \n",
    "        posts.append({\n",
    "            \"title\": post.title,\n",
    "            \"score\": post.score,\n",
    "            \"id\": post.id,\n",
    "            \"url\": post.url,\n",
    "            \"comms_num\": post.num_comments,\n",
    "            \"created\": created_date,  # Now returns datetime object\n",
    "            \"body\": post.selftext\n",
    "        })\n",
    "    return pd.DataFrame(posts)\n",
    "post_limit = 1000"
   ]
  },
  {
   "cell_type": "code",
   "execution_count": 4,
   "id": "9339be44-b1cb-4d3f-804e-3111fe18d32e",
   "metadata": {},
   "outputs": [
    {
     "name": "stdout",
     "output_type": "stream",
     "text": [
      "Pulling subreddit wine\n",
      "Fetched 982 posts from wine\n",
      "Pulling subreddit beer\n",
      "Fetched 981 posts from beer\n"
     ]
    }
   ],
   "source": [
    "# The `subreddit_list` variable will be assigned a list of your\n",
    "# two chosen subreddits for Project #3\n",
    "# Example:\n",
    "file_date = datetime.now().strftime('%Y%m%d')\n",
    "subreddit_list = [\"Airbus\",\"Boeing\"]\n",
    "subreddit_list = []\n",
    "subreddit_list = [\"wine\",\"beer\"]\n",
    "\n",
    "for sub in subreddit_list:\n",
    "    print(f'Pulling subreddit {sub}')\n",
    "    data = fetch_subreddit_data(reddit, sub, post_limit)\n",
    "    data.to_csv(f'../data/subreddit_{sub}_data-{file_date}.csv', index=False, encoding='utf-8-sig')\n",
    "    print(f\"Fetched {len(data)} posts from {sub}\")"
   ]
  },
  {
   "cell_type": "code",
   "execution_count": null,
   "id": "a333d6cf-b036-4830-8e0d-7f4ba242b4e1",
   "metadata": {},
   "outputs": [],
   "source": []
  }
 ],
 "metadata": {
  "kernelspec": {
   "display_name": "Python 3 (ipykernel)",
   "language": "python",
   "name": "python3"
  },
  "language_info": {
   "codemirror_mode": {
    "name": "ipython",
    "version": 3
   },
   "file_extension": ".py",
   "mimetype": "text/x-python",
   "name": "python",
   "nbconvert_exporter": "python",
   "pygments_lexer": "ipython3",
   "version": "3.12.3"
  }
 },
 "nbformat": 4,
 "nbformat_minor": 5
}
